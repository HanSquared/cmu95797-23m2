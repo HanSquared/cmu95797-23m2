{
 "cells": [
  {
   "cell_type": "code",
   "execution_count": 3,
   "id": "99940ea1-5a58-4e2d-8852-21b6fe1c0c79",
   "metadata": {},
   "outputs": [
    {
     "name": "stdout",
     "output_type": "stream",
     "text": [
      "Collecting duckdb\n",
      "  Using cached duckdb-0.9.1-cp39-cp39-macosx_10_9_x86_64.whl (15.3 MB)\n",
      "Installing collected packages: duckdb\n",
      "Successfully installed duckdb-0.9.1\n",
      "\n",
      "\u001b[1m[\u001b[0m\u001b[34;49mnotice\u001b[0m\u001b[1;39;49m]\u001b[0m\u001b[39;49m A new release of pip is available: \u001b[0m\u001b[31;49m23.1.2\u001b[0m\u001b[39;49m -> \u001b[0m\u001b[32;49m23.3.1\u001b[0m\n",
      "\u001b[1m[\u001b[0m\u001b[34;49mnotice\u001b[0m\u001b[1;39;49m]\u001b[0m\u001b[39;49m To update, run: \u001b[0m\u001b[32;49mpip install --upgrade pip\u001b[0m\n",
      "Note: you may need to restart the kernel to use updated packages.\n"
     ]
    }
   ],
   "source": [
    "pip install duckdb"
   ]
  },
  {
   "cell_type": "code",
   "execution_count": null,
   "id": "a3f85861-532e-4d89-af98-6ccd49a463b1",
   "metadata": {},
   "outputs": [],
   "source": []
  },
  {
   "cell_type": "code",
   "execution_count": 4,
   "id": "fcfee9f6-0ecd-4578-b17f-087d23007449",
   "metadata": {},
   "outputs": [
    {
     "name": "stdout",
     "output_type": "stream",
     "text": [
      "┌────────────┐\n",
      "│ table_name │\n",
      "│  varchar   │\n",
      "├────────────┤\n",
      "│   0 rows   │\n",
      "└────────────┘\n",
      "\n",
      "┌─────────┐\n",
      "│  name   │\n",
      "│ varchar │\n",
      "├─────────┤\n",
      "│ 0 rows  │\n",
      "└─────────┘\n",
      "\n",
      "<class 'duckdb.duckdb.DuckDBPyRelation'>\n"
     ]
    }
   ],
   "source": [
    "#print out table_name and row_count\n",
    "import duckdb\n",
    "con = duckdb.connect('main.db')\n",
    "tableName = con.sql(\"SELECT table_name From information_schema.tables;\")\n",
    "print(tableName)\n",
    "#rowCount = con.sql(\"select count(*) from temp.information_schema.tables;\")\n",
    "#print(rowCount)\n",
    "tables = con.sql(\"SHOW tables;\")\n",
    "print(tables)\n",
    "print(type(tables))"
   ]
  },
  {
   "cell_type": "code",
   "execution_count": null,
   "id": "0bf98dcc-702b-4f5a-8ed0-2568101d9b55",
   "metadata": {},
   "outputs": [],
   "source": []
  },
  {
   "cell_type": "code",
   "execution_count": null,
   "id": "eb5ceb22-1e2c-48e5-8dab-56c99d9398bc",
   "metadata": {},
   "outputs": [],
   "source": []
  }
 ],
 "metadata": {
  "kernelspec": {
   "display_name": "Python 3 (ipykernel)",
   "language": "python",
   "name": "python3"
  },
  "language_info": {
   "codemirror_mode": {
    "name": "ipython",
    "version": 3
   },
   "file_extension": ".py",
   "mimetype": "text/x-python",
   "name": "python",
   "nbconvert_exporter": "python",
   "pygments_lexer": "ipython3",
   "version": "3.9.12"
  }
 },
 "nbformat": 4,
 "nbformat_minor": 5
}
